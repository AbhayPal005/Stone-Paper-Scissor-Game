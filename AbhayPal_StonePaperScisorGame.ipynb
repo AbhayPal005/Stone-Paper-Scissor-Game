{
  "nbformat": 4,
  "nbformat_minor": 0,
  "metadata": {
    "colab": {
      "name": "Untitled10.ipynb",
      "provenance": []
    },
    "kernelspec": {
      "name": "python3",
      "display_name": "Python 3"
    },
    "language_info": {
      "name": "python"
    }
  },
  "cells": [
    {
      "cell_type": "code",
      "metadata": {
        "colab": {
          "base_uri": "https://localhost:8080/"
        },
        "id": "dh1_YSx7cQu0",
        "outputId": "6d066a32-22ec-4ff5-8e26-85f98e62fa80"
      },
      "source": [
        "import random\n",
        "\n",
        "lost=0\n",
        "tie=0\n",
        "won=0\n",
        "n=int(input(\"Numberof times you want to play :\"))\n",
        "for i in range(n):\n",
        "     player=input(\"Enter the choice\")\n",
        "     choice=[\"rock\",\"paper\",\"scisor\"]\n",
        "     computer=random.choice(choice)\n",
        "     if player==\"rock\":\n",
        "         if computer==\"rock\":\n",
        "              print(\"Tie\")\n",
        "              tie+=1\n",
        "         elif computer==\"paper\":\n",
        "             print(\"Lost\")\n",
        "             lost+=1\n",
        "\n",
        "         else:\n",
        "              print(\"won\")\n",
        "              won+=1\n",
        "\n",
        "     if player==\"paper\":\n",
        "         if computer==\"paper\":\n",
        "             print(\"Tie\")\n",
        "             tie+=1\n",
        "         elif computer==\"scisor\":\n",
        "              print(\"Lost\")\n",
        "              lost+=1\n",
        "\n",
        "         else:\n",
        "             print(\"won\")\n",
        "             won+=1\n",
        "\n",
        "     if player==\"scisor\":\n",
        "         if computer==\"scisor\":\n",
        "             print(\"Tie\")\n",
        "             tie+=1\n",
        "         elif computer==\"rock\":\n",
        "             print(\"Lost\")\n",
        "             lost+=1\n",
        "\n",
        "         else:\n",
        "             print(\"won\")\n",
        "             won+=1   \n",
        "\n",
        "\n",
        "\n",
        "\n",
        "print(\"Number of times tie occurs :\",tie)\n",
        "print(\"Number of times lost occurs :\",lost)\n",
        "print(\"Number of times won :\",won)\n",
        "    \n",
        "\n"
      ],
      "execution_count": 3,
      "outputs": [
        {
          "output_type": "stream",
          "text": [
            "Numberof times you want to play :5\n",
            "Enter the choicescisor\n",
            "Tie\n",
            "Enter the choicescisor\n",
            "Lost\n",
            "Enter the choicerock\n",
            "Tie\n",
            "Enter the choicepaper\n",
            "won\n",
            "Enter the choicepaper\n",
            "Tie\n",
            "Number of times tie occurs : 3\n",
            "Number of times lost occurs : 1\n",
            "Number of times won : 1\n"
          ],
          "name": "stdout"
        }
      ]
    }
  ]
}